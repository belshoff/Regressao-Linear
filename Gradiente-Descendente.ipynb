{
 "cells": [
  {
   "cell_type": "code",
   "execution_count": 20,
   "metadata": {},
   "outputs": [
    {
     "data": {
      "image/png": "[encoded data removed]",
      "text/plain": [
       "<Figure size 432x288 with 1 Axes>"
      ]
     },
     "metadata": {},
     "output_type": "display_data"
    }
   ],
   "source": [
    "from matplotlib import pyplot as plt\n",
    "import numpy as np\n",
    "%matplotlib inline\n",
    "\n",
    "\n",
    "x_old, x_new, gamma, prec = 0, 6, 0.0001, 0.00001\n",
    "\n",
    "f = lambda x: x**4 - 3 * x**3 + 2\n",
    "df = lambda x: 4*(x**3) - 9*(x**2)\n",
    "\n",
    "to_plot =[]\n",
    "i = 0\n",
    "\n",
    "to_plot.append(x_new)\n",
    "while abs(x_new - x_old) > prec:\n",
    "    x_old = x_new\n",
    "    x_new += -gamma * df(x_old)\n",
    "    #to_plot.append(x_new)\n",
    "    i += 1\n",
    "    \n",
    "    data = np.linspace(-10, 10, 10)\n",
    "    plt.plot(data, f(data), 'b')\n",
    "    to_plot.append(x_new)\n",
    "\n",
    "plt.plot(to_plot, [f(x) for x in to_plot], 'r*')\n",
    "plt.plot(to_plot, [f(x) for x in to_plot], 'g')\n",
    "plt.show()\n",
    "    "
   ]
  },
  {
   "cell_type": "code",
   "execution_count": null,
   "metadata": {},
   "outputs": [],
   "source": []
  },
  {
   "cell_type": "code",
   "execution_count": null,
   "metadata": {},
   "outputs": [],
   "source": []
  }
 ],
 "metadata": {
  "kernelspec": {
   "display_name": "Python 3",
   "language": "python",
   "name": "python3"
  },
  "language_info": {
   "codemirror_mode": {
    "name": "ipython",
    "version": 3
   },
   "file_extension": ".py",
   "mimetype": "text/x-python",
   "name": "python",
   "nbconvert_exporter": "python",
   "pygments_lexer": "ipython3",
   "version": "3.5.3"
  }
 },
 "nbformat": 4,
 "nbformat_minor": 2
}
